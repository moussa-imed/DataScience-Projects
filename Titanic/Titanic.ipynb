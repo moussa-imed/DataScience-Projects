{
 "cells": [
  {
   "cell_type": "code",
   "execution_count": 1,
   "id": "75c6b102",
   "metadata": {},
   "outputs": [],
   "source": [
    "import numpy as np \n",
    "import pandas as pd \n",
    "import seaborn as sns \n",
    "import matplotlib.pyplot as plt\n",
    "from sklearn.model_selection import train_test_split\n",
    "from lazypredict.Supervised import LazyClassifier"
   ]
  },
  {
   "cell_type": "code",
   "execution_count": 2,
   "id": "b3f5d7f4",
   "metadata": {},
   "outputs": [],
   "source": [
    "train = pd.read_csv('train.csv')\n",
    "test = pd.read_csv('test.csv')"
   ]
  },
  {
   "cell_type": "code",
   "execution_count": 3,
   "id": "eb9bbcc5",
   "metadata": {},
   "outputs": [],
   "source": [
    "train['train']=1\n",
    "test['train']=0\n",
    "test['Survived']=np.NaN"
   ]
  },
  {
   "cell_type": "code",
   "execution_count": 125,
   "id": "c8f8c9a6",
   "metadata": {},
   "outputs": [],
   "source": [
    "completedata=pd.concat([train,test])"
   ]
  },
  {
   "cell_type": "markdown",
   "id": "09c2ec18",
   "metadata": {},
   "source": [
    "# Data Exploration"
   ]
  },
  {
   "cell_type": "code",
   "execution_count": 5,
   "id": "859f271a",
   "metadata": {},
   "outputs": [
    {
     "name": "stdout",
     "output_type": "stream",
     "text": [
      "<class 'pandas.core.frame.DataFrame'>\n",
      "RangeIndex: 891 entries, 0 to 890\n",
      "Data columns (total 13 columns):\n",
      " #   Column       Non-Null Count  Dtype  \n",
      "---  ------       --------------  -----  \n",
      " 0   PassengerId  891 non-null    int64  \n",
      " 1   Survived     891 non-null    int64  \n",
      " 2   Pclass       891 non-null    int64  \n",
      " 3   Name         891 non-null    object \n",
      " 4   Sex          891 non-null    object \n",
      " 5   Age          714 non-null    float64\n",
      " 6   SibSp        891 non-null    int64  \n",
      " 7   Parch        891 non-null    int64  \n",
      " 8   Ticket       891 non-null    object \n",
      " 9   Fare         891 non-null    float64\n",
      " 10  Cabin        204 non-null    object \n",
      " 11  Embarked     889 non-null    object \n",
      " 12  train        891 non-null    int64  \n",
      "dtypes: float64(2), int64(6), object(5)\n",
      "memory usage: 90.6+ KB\n"
     ]
    }
   ],
   "source": [
    "train.info()"
   ]
  },
  {
   "cell_type": "markdown",
   "id": "59a1e4fd",
   "metadata": {},
   "source": [
    "Age and Cabin have some null values"
   ]
  },
  {
   "cell_type": "code",
   "execution_count": 6,
   "id": "9405318a",
   "metadata": {},
   "outputs": [
    {
     "data": {
      "text/html": [
       "<div>\n",
       "<style scoped>\n",
       "    .dataframe tbody tr th:only-of-type {\n",
       "        vertical-align: middle;\n",
       "    }\n",
       "\n",
       "    .dataframe tbody tr th {\n",
       "        vertical-align: top;\n",
       "    }\n",
       "\n",
       "    .dataframe thead th {\n",
       "        text-align: right;\n",
       "    }\n",
       "</style>\n",
       "<table border=\"1\" class=\"dataframe\">\n",
       "  <thead>\n",
       "    <tr style=\"text-align: right;\">\n",
       "      <th></th>\n",
       "      <th>PassengerId</th>\n",
       "      <th>Survived</th>\n",
       "      <th>Pclass</th>\n",
       "      <th>Age</th>\n",
       "      <th>SibSp</th>\n",
       "      <th>Parch</th>\n",
       "      <th>Fare</th>\n",
       "      <th>train</th>\n",
       "    </tr>\n",
       "  </thead>\n",
       "  <tbody>\n",
       "    <tr>\n",
       "      <th>count</th>\n",
       "      <td>891.00</td>\n",
       "      <td>891.00</td>\n",
       "      <td>891.00</td>\n",
       "      <td>714.00</td>\n",
       "      <td>891.00</td>\n",
       "      <td>891.00</td>\n",
       "      <td>891.00</td>\n",
       "      <td>891.00</td>\n",
       "    </tr>\n",
       "    <tr>\n",
       "      <th>mean</th>\n",
       "      <td>446.00</td>\n",
       "      <td>0.38</td>\n",
       "      <td>2.31</td>\n",
       "      <td>29.70</td>\n",
       "      <td>0.52</td>\n",
       "      <td>0.38</td>\n",
       "      <td>32.20</td>\n",
       "      <td>1.00</td>\n",
       "    </tr>\n",
       "    <tr>\n",
       "      <th>std</th>\n",
       "      <td>257.35</td>\n",
       "      <td>0.49</td>\n",
       "      <td>0.84</td>\n",
       "      <td>14.53</td>\n",
       "      <td>1.10</td>\n",
       "      <td>0.81</td>\n",
       "      <td>49.69</td>\n",
       "      <td>0.00</td>\n",
       "    </tr>\n",
       "    <tr>\n",
       "      <th>min</th>\n",
       "      <td>1.00</td>\n",
       "      <td>0.00</td>\n",
       "      <td>1.00</td>\n",
       "      <td>0.42</td>\n",
       "      <td>0.00</td>\n",
       "      <td>0.00</td>\n",
       "      <td>0.00</td>\n",
       "      <td>1.00</td>\n",
       "    </tr>\n",
       "    <tr>\n",
       "      <th>25%</th>\n",
       "      <td>223.50</td>\n",
       "      <td>0.00</td>\n",
       "      <td>2.00</td>\n",
       "      <td>20.12</td>\n",
       "      <td>0.00</td>\n",
       "      <td>0.00</td>\n",
       "      <td>7.91</td>\n",
       "      <td>1.00</td>\n",
       "    </tr>\n",
       "    <tr>\n",
       "      <th>50%</th>\n",
       "      <td>446.00</td>\n",
       "      <td>0.00</td>\n",
       "      <td>3.00</td>\n",
       "      <td>28.00</td>\n",
       "      <td>0.00</td>\n",
       "      <td>0.00</td>\n",
       "      <td>14.45</td>\n",
       "      <td>1.00</td>\n",
       "    </tr>\n",
       "    <tr>\n",
       "      <th>75%</th>\n",
       "      <td>668.50</td>\n",
       "      <td>1.00</td>\n",
       "      <td>3.00</td>\n",
       "      <td>38.00</td>\n",
       "      <td>1.00</td>\n",
       "      <td>0.00</td>\n",
       "      <td>31.00</td>\n",
       "      <td>1.00</td>\n",
       "    </tr>\n",
       "    <tr>\n",
       "      <th>max</th>\n",
       "      <td>891.00</td>\n",
       "      <td>1.00</td>\n",
       "      <td>3.00</td>\n",
       "      <td>80.00</td>\n",
       "      <td>8.00</td>\n",
       "      <td>6.00</td>\n",
       "      <td>512.33</td>\n",
       "      <td>1.00</td>\n",
       "    </tr>\n",
       "  </tbody>\n",
       "</table>\n",
       "</div>"
      ],
      "text/plain": [
       "       PassengerId  Survived  Pclass    Age  SibSp  Parch   Fare  train\n",
       "count       891.00    891.00  891.00 714.00 891.00 891.00 891.00 891.00\n",
       "mean        446.00      0.38    2.31  29.70   0.52   0.38  32.20   1.00\n",
       "std         257.35      0.49    0.84  14.53   1.10   0.81  49.69   0.00\n",
       "min           1.00      0.00    1.00   0.42   0.00   0.00   0.00   1.00\n",
       "25%         223.50      0.00    2.00  20.12   0.00   0.00   7.91   1.00\n",
       "50%         446.00      0.00    3.00  28.00   0.00   0.00  14.45   1.00\n",
       "75%         668.50      1.00    3.00  38.00   1.00   0.00  31.00   1.00\n",
       "max         891.00      1.00    3.00  80.00   8.00   6.00 512.33   1.00"
      ]
     },
     "execution_count": 6,
     "metadata": {},
     "output_type": "execute_result"
    }
   ],
   "source": [
    "train.describe()"
   ]
  },
  {
   "cell_type": "code",
   "execution_count": 7,
   "id": "009d2334",
   "metadata": {},
   "outputs": [],
   "source": [
    "train_num=train[[\"Age\",\"SibSp\",\"Parch\",\"Fare\"]]\n",
    "train_cat=train[[\"Survived\",\"Sex\",\"Ticket\",\"Fare\",\"Cabin\",\"Embarked\",\"Pclass\"]]"
   ]
  },
  {
   "cell_type": "code",
   "execution_count": 8,
   "id": "b8aba66a",
   "metadata": {
    "scrolled": false
   },
   "outputs": [
    {
     "data": {
      "image/png": "[encoded data removed]",
      "text/plain": [
       "<Figure size 432x288 with 1 Axes>"
      ]
     },
     "metadata": {
      "needs_background": "light"
     },
     "output_type": "display_data"
    },
    {
     "data": {
      "image/png": "[encoded data removed]",
      "text/plain": [
       "<Figure size 432x288 with 1 Axes>"
      ]
     },
     "metadata": {
      "needs_background": "light"
     },
     "output_type": "display_data"
    },
    {
     "data": {
      "image/png": "[encoded data removed]",
      "text/plain": [
       "<Figure size 432x288 with 1 Axes>"
      ]
     },
     "metadata": {
      "needs_background": "light"
     },
     "output_type": "display_data"
    },
    {
     "data": {
      "image/png": "[encoded data removed]",
      "text/plain": [
       "<Figure size 432x288 with 1 Axes>"
      ]
     },
     "metadata": {
      "needs_background": "light"
     },
     "output_type": "display_data"
    },
    {
     "data": {
      "image/png": "[encoded data removed]",
      "text/plain": [
       "<Figure size 432x288 with 1 Axes>"
      ]
     },
     "metadata": {
      "needs_background": "light"
     },
     "output_type": "display_data"
    },
    {
     "data": {
      "image/png": "[encoded data removed]",
      "text/plain": [
       "<Figure size 432x288 with 1 Axes>"
      ]
     },
     "metadata": {
      "needs_background": "light"
     },
     "output_type": "display_data"
    },
    {
     "data": {
      "image/png": "[encoded data removed]",
      "text/plain": [
       "<Figure size 432x288 with 1 Axes>"
      ]
     },
     "metadata": {
      "needs_background": "light"
     },
     "output_type": "display_data"
    }
   ],
   "source": [
    "for c in train_cat.columns : \n",
    "    sns.barplot(train_cat[c].value_counts().index,train_cat[c].value_counts()).set_title(c)\n",
    "    plt.show()"
   ]
  },
  {
   "cell_type": "code",
   "execution_count": 9,
   "id": "59d8d8b1",
   "metadata": {},
   "outputs": [],
   "source": [
    "sns.set()"
   ]
  },
  {
   "cell_type": "code",
   "execution_count": 10,
   "id": "ba96ea04",
   "metadata": {},
   "outputs": [
    {
     "data": {
      "image/png": "[encoded data removed]",
      "text/plain": [
       "<Figure size 432x288 with 1 Axes>"
      ]
     },
     "metadata": {},
     "output_type": "display_data"
    },
    {
     "data": {
      "image/png": "[encoded data removed]",
      "text/plain": [
       "<Figure size 432x288 with 1 Axes>"
      ]
     },
     "metadata": {},
     "output_type": "display_data"
    },
    {
     "data": {
      "image/png": "[encoded data removed]",
      "text/plain": [
       "<Figure size 432x288 with 1 Axes>"
      ]
     },
     "metadata": {},
     "output_type": "display_data"
    },
    {
     "data": {
      "image/png": "[encoded data removed]",
      "text/plain": [
       "<Figure size 432x288 with 1 Axes>"
      ]
     },
     "metadata": {},
     "output_type": "display_data"
    }
   ],
   "source": [
    "for c in train_num.columns :\n",
    "    plt.hist(train_num[c])\n",
    "    plt.title(c)\n",
    "    plt.show()"
   ]
  },
  {
   "cell_type": "code",
   "execution_count": 11,
   "id": "2f279a0f",
   "metadata": {},
   "outputs": [
    {
     "data": {
      "image/png": "[encoded data removed]",
      "text/plain": [
       "<Figure size 432x360 with 2 Axes>"
      ]
     },
     "metadata": {},
     "output_type": "display_data"
    }
   ],
   "source": [
    "# correlations between features\n",
    "corr = train_num.corr()\n",
    "plt.figure(figsize = (6, 5))\n",
    "sns.heatmap(corr, cmap='RdYlGn', annot = True, center = 0)\n",
    "plt.title('Correlogram', fontsize = 15, color = 'darkgreen')\n",
    "plt.show()"
   ]
  },
  {
   "cell_type": "code",
   "execution_count": 12,
   "id": "99c1492e",
   "metadata": {},
   "outputs": [
    {
     "data": {
      "text/html": [
       "<div>\n",
       "<style scoped>\n",
       "    .dataframe tbody tr th:only-of-type {\n",
       "        vertical-align: middle;\n",
       "    }\n",
       "\n",
       "    .dataframe tbody tr th {\n",
       "        vertical-align: top;\n",
       "    }\n",
       "\n",
       "    .dataframe thead th {\n",
       "        text-align: right;\n",
       "    }\n",
       "</style>\n",
       "<table border=\"1\" class=\"dataframe\">\n",
       "  <thead>\n",
       "    <tr style=\"text-align: right;\">\n",
       "      <th></th>\n",
       "      <th>Age</th>\n",
       "      <th>Fare</th>\n",
       "      <th>Parch</th>\n",
       "      <th>Pclass</th>\n",
       "      <th>SibSp</th>\n",
       "    </tr>\n",
       "    <tr>\n",
       "      <th>Survived</th>\n",
       "      <th></th>\n",
       "      <th></th>\n",
       "      <th></th>\n",
       "      <th></th>\n",
       "      <th></th>\n",
       "    </tr>\n",
       "  </thead>\n",
       "  <tbody>\n",
       "    <tr>\n",
       "      <th>0</th>\n",
       "      <td>30.63</td>\n",
       "      <td>22.12</td>\n",
       "      <td>0.33</td>\n",
       "      <td>2.53</td>\n",
       "      <td>0.55</td>\n",
       "    </tr>\n",
       "    <tr>\n",
       "      <th>1</th>\n",
       "      <td>28.34</td>\n",
       "      <td>48.40</td>\n",
       "      <td>0.46</td>\n",
       "      <td>1.95</td>\n",
       "      <td>0.47</td>\n",
       "    </tr>\n",
       "  </tbody>\n",
       "</table>\n",
       "</div>"
      ],
      "text/plain": [
       "           Age  Fare  Parch  Pclass  SibSp\n",
       "Survived                                  \n",
       "0        30.63 22.12   0.33    2.53   0.55\n",
       "1        28.34 48.40   0.46    1.95   0.47"
      ]
     },
     "execution_count": 12,
     "metadata": {},
     "output_type": "execute_result"
    }
   ],
   "source": [
    "pd.pivot_table(train,index=\"Survived\",values=[\"Pclass\",\"Age\",\"SibSp\",\"Parch\",\"Fare\"])"
   ]
  },
  {
   "cell_type": "markdown",
   "id": "8be81e81",
   "metadata": {},
   "source": [
    "Feature engineering can be beneficial for the \"Cabin\" and \"Tickets\" variables since they contain a lot of messy and unorganized data."
   ]
  },
  {
   "cell_type": "markdown",
   "id": "9b4afdfe",
   "metadata": {},
   "source": [
    "# Feature Engineering "
   ]
  },
  {
   "cell_type": "code",
   "execution_count": 13,
   "id": "6ea2e54e",
   "metadata": {},
   "outputs": [
    {
     "data": {
      "text/plain": [
       "0    687\n",
       "1    180\n",
       "2     16\n",
       "3      6\n",
       "4      2\n",
       "Name: cabin_multiple, dtype: int64"
      ]
     },
     "execution_count": 13,
     "metadata": {},
     "output_type": "execute_result"
    }
   ],
   "source": [
    "train['cabin_multiple']=train.Cabin.apply(lambda x:0 if pd.isna(x) else len(x.split(' ')))\n",
    "train['cabin_multiple'].value_counts()"
   ]
  },
  {
   "cell_type": "code",
   "execution_count": 14,
   "id": "95656985",
   "metadata": {},
   "outputs": [
    {
     "data": {
      "text/html": [
       "<div>\n",
       "<style scoped>\n",
       "    .dataframe tbody tr th:only-of-type {\n",
       "        vertical-align: middle;\n",
       "    }\n",
       "\n",
       "    .dataframe tbody tr th {\n",
       "        vertical-align: top;\n",
       "    }\n",
       "\n",
       "    .dataframe thead th {\n",
       "        text-align: right;\n",
       "    }\n",
       "</style>\n",
       "<table border=\"1\" class=\"dataframe\">\n",
       "  <thead>\n",
       "    <tr style=\"text-align: right;\">\n",
       "      <th>cabin_multiple</th>\n",
       "      <th>0</th>\n",
       "      <th>1</th>\n",
       "      <th>2</th>\n",
       "      <th>3</th>\n",
       "      <th>4</th>\n",
       "    </tr>\n",
       "    <tr>\n",
       "      <th>Survived</th>\n",
       "      <th></th>\n",
       "      <th></th>\n",
       "      <th></th>\n",
       "      <th></th>\n",
       "      <th></th>\n",
       "    </tr>\n",
       "  </thead>\n",
       "  <tbody>\n",
       "    <tr>\n",
       "      <th>0</th>\n",
       "      <td>481.00</td>\n",
       "      <td>58.00</td>\n",
       "      <td>7.00</td>\n",
       "      <td>3.00</td>\n",
       "      <td>NaN</td>\n",
       "    </tr>\n",
       "    <tr>\n",
       "      <th>1</th>\n",
       "      <td>206.00</td>\n",
       "      <td>122.00</td>\n",
       "      <td>9.00</td>\n",
       "      <td>3.00</td>\n",
       "      <td>2.00</td>\n",
       "    </tr>\n",
       "  </tbody>\n",
       "</table>\n",
       "</div>"
      ],
      "text/plain": [
       "cabin_multiple      0      1    2    3    4\n",
       "Survived                                   \n",
       "0              481.00  58.00 7.00 3.00  NaN\n",
       "1              206.00 122.00 9.00 3.00 2.00"
      ]
     },
     "execution_count": 14,
     "metadata": {},
     "output_type": "execute_result"
    }
   ],
   "source": [
    "pd.pivot_table(train,index=\"Survived\", columns='cabin_multiple',values='Ticket',aggfunc='count')"
   ]
  },
  {
   "cell_type": "code",
   "execution_count": 15,
   "id": "56bd88a9",
   "metadata": {},
   "outputs": [],
   "source": [
    "train['cabin_adv']=train.Cabin.apply(lambda x :str(x)[0])"
   ]
  },
  {
   "cell_type": "code",
   "execution_count": 16,
   "id": "b879556f",
   "metadata": {},
   "outputs": [
    {
     "name": "stdout",
     "output_type": "stream",
     "text": [
      "n    687\n",
      "C     59\n",
      "B     47\n",
      "D     33\n",
      "E     32\n",
      "A     15\n",
      "F     13\n",
      "G      4\n",
      "T      1\n",
      "Name: cabin_adv, dtype: int64\n"
     ]
    },
    {
     "data": {
      "text/html": [
       "<div>\n",
       "<style scoped>\n",
       "    .dataframe tbody tr th:only-of-type {\n",
       "        vertical-align: middle;\n",
       "    }\n",
       "\n",
       "    .dataframe tbody tr th {\n",
       "        vertical-align: top;\n",
       "    }\n",
       "\n",
       "    .dataframe thead th {\n",
       "        text-align: right;\n",
       "    }\n",
       "</style>\n",
       "<table border=\"1\" class=\"dataframe\">\n",
       "  <thead>\n",
       "    <tr style=\"text-align: right;\">\n",
       "      <th>cabin_adv</th>\n",
       "      <th>A</th>\n",
       "      <th>B</th>\n",
       "      <th>C</th>\n",
       "      <th>D</th>\n",
       "      <th>E</th>\n",
       "      <th>F</th>\n",
       "      <th>G</th>\n",
       "      <th>T</th>\n",
       "      <th>n</th>\n",
       "    </tr>\n",
       "    <tr>\n",
       "      <th>Survived</th>\n",
       "      <th></th>\n",
       "      <th></th>\n",
       "      <th></th>\n",
       "      <th></th>\n",
       "      <th></th>\n",
       "      <th></th>\n",
       "      <th></th>\n",
       "      <th></th>\n",
       "      <th></th>\n",
       "    </tr>\n",
       "  </thead>\n",
       "  <tbody>\n",
       "    <tr>\n",
       "      <th>0</th>\n",
       "      <td>8.00</td>\n",
       "      <td>12.00</td>\n",
       "      <td>24.00</td>\n",
       "      <td>8.00</td>\n",
       "      <td>8.00</td>\n",
       "      <td>5.00</td>\n",
       "      <td>2.00</td>\n",
       "      <td>1.00</td>\n",
       "      <td>481.00</td>\n",
       "    </tr>\n",
       "    <tr>\n",
       "      <th>1</th>\n",
       "      <td>7.00</td>\n",
       "      <td>35.00</td>\n",
       "      <td>35.00</td>\n",
       "      <td>25.00</td>\n",
       "      <td>24.00</td>\n",
       "      <td>8.00</td>\n",
       "      <td>2.00</td>\n",
       "      <td>NaN</td>\n",
       "      <td>206.00</td>\n",
       "    </tr>\n",
       "  </tbody>\n",
       "</table>\n",
       "</div>"
      ],
      "text/plain": [
       "cabin_adv    A     B     C     D     E    F    G    T      n\n",
       "Survived                                                    \n",
       "0         8.00 12.00 24.00  8.00  8.00 5.00 2.00 1.00 481.00\n",
       "1         7.00 35.00 35.00 25.00 24.00 8.00 2.00  NaN 206.00"
      ]
     },
     "execution_count": 16,
     "metadata": {},
     "output_type": "execute_result"
    }
   ],
   "source": [
    "print(train.cabin_adv.value_counts())\n",
    "pd.pivot_table(train,index=\"Survived\", columns='cabin_adv',values='Ticket',aggfunc='count')"
   ]
  },
  {
   "cell_type": "code",
   "execution_count": 17,
   "id": "5dc0a228",
   "metadata": {},
   "outputs": [],
   "source": [
    "train['numeric_ticket']=train.Ticket.apply(lambda x :1 if x.isnumeric() else 0)\n",
    "train['ticcket_letters']=train.Ticket.apply(lambda x : ''.join(x.split(' ')[:-1]).replace('.','').replace('/','').lower() if len(x.split(' ')[:-1])>0 else 0)"
   ]
  },
  {
   "cell_type": "code",
   "execution_count": 18,
   "id": "fec5d1a7",
   "metadata": {},
   "outputs": [
    {
     "data": {
      "text/plain": [
       "1    661\n",
       "0    230\n",
       "Name: numeric_ticket, dtype: int64"
      ]
     },
     "execution_count": 18,
     "metadata": {},
     "output_type": "execute_result"
    }
   ],
   "source": [
    "train['numeric_ticket'].value_counts()"
   ]
  },
  {
   "cell_type": "code",
   "execution_count": 19,
   "id": "b6f9498a",
   "metadata": {},
   "outputs": [
    {
     "data": {
      "text/plain": [
       "0            665\n",
       "pc            60\n",
       "ca            41\n",
       "a5            21\n",
       "stono2        18\n",
       "sotonoq       15\n",
       "scparis       11\n",
       "wc            10\n",
       "a4             7\n",
       "soc            6\n",
       "c              5\n",
       "fcc            5\n",
       "sopp           3\n",
       "pp             3\n",
       "wep            3\n",
       "scah           2\n",
       "ppp            2\n",
       "swpp           2\n",
       "sotono2        2\n",
       "sca4           1\n",
       "sp             1\n",
       "scahbasle      1\n",
       "fc             1\n",
       "scow           1\n",
       "sc             1\n",
       "sop            1\n",
       "as             1\n",
       "fa             1\n",
       "casoton        1\n",
       "Name: ticcket_letters, dtype: int64"
      ]
     },
     "execution_count": 19,
     "metadata": {},
     "output_type": "execute_result"
    }
   ],
   "source": [
    "pd.set_option(\"max_rows\",None)\n",
    "train['ticcket_letters'].value_counts()"
   ]
  },
  {
   "cell_type": "code",
   "execution_count": 20,
   "id": "70ccb666",
   "metadata": {},
   "outputs": [],
   "source": [
    "train['Name_title']=train.Name.apply(lambda x:x.split(',')[1].split('.')[0].strip())"
   ]
  },
  {
   "cell_type": "code",
   "execution_count": 21,
   "id": "f0bb08cd",
   "metadata": {},
   "outputs": [
    {
     "data": {
      "text/plain": [
       "Mr              517\n",
       "Miss            182\n",
       "Mrs             125\n",
       "Master           40\n",
       "Dr                7\n",
       "Rev               6\n",
       "Major             2\n",
       "Col               2\n",
       "Mlle              2\n",
       "Lady              1\n",
       "Don               1\n",
       "Jonkheer          1\n",
       "Sir               1\n",
       "the Countess      1\n",
       "Mme               1\n",
       "Ms                1\n",
       "Capt              1\n",
       "Name: Name_title, dtype: int64"
      ]
     },
     "execution_count": 21,
     "metadata": {},
     "output_type": "execute_result"
    }
   ],
   "source": [
    "train['Name_title'].value_counts()"
   ]
  },
  {
   "cell_type": "code",
   "execution_count": 22,
   "id": "b7fcad65",
   "metadata": {},
   "outputs": [
    {
     "data": {
      "text/html": [
       "<div>\n",
       "<style scoped>\n",
       "    .dataframe tbody tr th:only-of-type {\n",
       "        vertical-align: middle;\n",
       "    }\n",
       "\n",
       "    .dataframe tbody tr th {\n",
       "        vertical-align: top;\n",
       "    }\n",
       "\n",
       "    .dataframe thead th {\n",
       "        text-align: right;\n",
       "    }\n",
       "</style>\n",
       "<table border=\"1\" class=\"dataframe\">\n",
       "  <thead>\n",
       "    <tr style=\"text-align: right;\">\n",
       "      <th>Name_title</th>\n",
       "      <th>Capt</th>\n",
       "      <th>Col</th>\n",
       "      <th>Don</th>\n",
       "      <th>Dr</th>\n",
       "      <th>Jonkheer</th>\n",
       "      <th>Lady</th>\n",
       "      <th>Major</th>\n",
       "      <th>Master</th>\n",
       "      <th>Miss</th>\n",
       "      <th>Mlle</th>\n",
       "      <th>Mme</th>\n",
       "      <th>Mr</th>\n",
       "      <th>Mrs</th>\n",
       "      <th>Ms</th>\n",
       "      <th>Rev</th>\n",
       "      <th>Sir</th>\n",
       "      <th>the Countess</th>\n",
       "    </tr>\n",
       "    <tr>\n",
       "      <th>Survived</th>\n",
       "      <th></th>\n",
       "      <th></th>\n",
       "      <th></th>\n",
       "      <th></th>\n",
       "      <th></th>\n",
       "      <th></th>\n",
       "      <th></th>\n",
       "      <th></th>\n",
       "      <th></th>\n",
       "      <th></th>\n",
       "      <th></th>\n",
       "      <th></th>\n",
       "      <th></th>\n",
       "      <th></th>\n",
       "      <th></th>\n",
       "      <th></th>\n",
       "      <th></th>\n",
       "    </tr>\n",
       "  </thead>\n",
       "  <tbody>\n",
       "    <tr>\n",
       "      <th>0</th>\n",
       "      <td>1.00</td>\n",
       "      <td>1.00</td>\n",
       "      <td>1.00</td>\n",
       "      <td>4.00</td>\n",
       "      <td>1.00</td>\n",
       "      <td>NaN</td>\n",
       "      <td>1.00</td>\n",
       "      <td>17.00</td>\n",
       "      <td>55.00</td>\n",
       "      <td>NaN</td>\n",
       "      <td>NaN</td>\n",
       "      <td>436.00</td>\n",
       "      <td>26.00</td>\n",
       "      <td>NaN</td>\n",
       "      <td>6.00</td>\n",
       "      <td>NaN</td>\n",
       "      <td>NaN</td>\n",
       "    </tr>\n",
       "    <tr>\n",
       "      <th>1</th>\n",
       "      <td>NaN</td>\n",
       "      <td>1.00</td>\n",
       "      <td>NaN</td>\n",
       "      <td>3.00</td>\n",
       "      <td>NaN</td>\n",
       "      <td>1.00</td>\n",
       "      <td>1.00</td>\n",
       "      <td>23.00</td>\n",
       "      <td>127.00</td>\n",
       "      <td>2.00</td>\n",
       "      <td>1.00</td>\n",
       "      <td>81.00</td>\n",
       "      <td>99.00</td>\n",
       "      <td>1.00</td>\n",
       "      <td>NaN</td>\n",
       "      <td>1.00</td>\n",
       "      <td>1.00</td>\n",
       "    </tr>\n",
       "  </tbody>\n",
       "</table>\n",
       "</div>"
      ],
      "text/plain": [
       "Name_title  Capt  Col  Don   Dr  Jonkheer  Lady  Major  Master   Miss  Mlle  \\\n",
       "Survived                                                                      \n",
       "0           1.00 1.00 1.00 4.00      1.00   NaN   1.00   17.00  55.00   NaN   \n",
       "1            NaN 1.00  NaN 3.00       NaN  1.00   1.00   23.00 127.00  2.00   \n",
       "\n",
       "Name_title  Mme     Mr   Mrs   Ms  Rev  Sir  the Countess  \n",
       "Survived                                                   \n",
       "0           NaN 436.00 26.00  NaN 6.00  NaN           NaN  \n",
       "1          1.00  81.00 99.00 1.00  NaN 1.00          1.00  "
      ]
     },
     "execution_count": 22,
     "metadata": {},
     "output_type": "execute_result"
    }
   ],
   "source": [
    "pd.pivot_table(train,index=\"Survived\", columns='Name_title',values='Ticket',aggfunc='count')"
   ]
  },
  {
   "cell_type": "markdown",
   "id": "cc2c50a8",
   "metadata": {},
   "source": [
    "# Data Preprocessing"
   ]
  },
  {
   "cell_type": "markdown",
   "id": "0c8813f1",
   "metadata": {},
   "source": [
    "Performing feature engineering on the entire dataset"
   ]
  },
  {
   "cell_type": "code",
   "execution_count": 23,
   "id": "d7f9dec9",
   "metadata": {},
   "outputs": [],
   "source": [
    "completedata['cabin_multiple']=completedata.Cabin.apply(lambda x:0 if pd.isna(x) else len(x.split(' ')))\n",
    "completedata['cabin_adv']=completedata.Cabin.apply(lambda x :str(x)[0])\n",
    "completedata['numeric_ticket']=completedata.Ticket.apply(lambda x :1 if x.isnumeric() else 0)\n",
    "completedata['ticcket_letters']=completedata.Ticket.apply(lambda x : ''.join(x.split(' ')[:-1]).replace('.','').replace('/','').lower() if len(x.split(' ')[:-1])>0 else 0)\n",
    "completedata['Name_title']=completedata.Name.apply(lambda x:x.split(',')[1].split('.')[0].strip())"
   ]
  },
  {
   "cell_type": "code",
   "execution_count": 57,
   "id": "fd8d70b5",
   "metadata": {},
   "outputs": [],
   "source": [
    "completedatacopy=completedata.copy()"
   ]
  },
  {
   "cell_type": "code",
   "execution_count": 56,
   "id": "4c74dc7c",
   "metadata": {},
   "outputs": [],
   "source": [
    "completedatacopy.Age=completedatacopy.Age.fillna(train.Age.mean())"
   ]
  },
  {
   "cell_type": "code",
   "execution_count": 58,
   "id": "6b28ee71",
   "metadata": {},
   "outputs": [],
   "source": [
    "#Drop nulls for Embarked (only 2)\n",
    "completedatacopy.dropna(subset=['Embarked'],inplace=True)"
   ]
  },
  {
   "cell_type": "code",
   "execution_count": 59,
   "id": "2bd067cc",
   "metadata": {},
   "outputs": [
    {
     "data": {
      "text/plain": [
       "PassengerId           0\n",
       "Survived            418\n",
       "Pclass                0\n",
       "Name                  0\n",
       "Sex                   0\n",
       "Age                   0\n",
       "SibSp                 0\n",
       "Parch                 0\n",
       "Ticket                0\n",
       "Fare                  1\n",
       "Cabin              1014\n",
       "Embarked              0\n",
       "train                 0\n",
       "cabin_multiple        0\n",
       "cabin_adv             0\n",
       "numeric_ticket        0\n",
       "ticcket_letters       0\n",
       "Name_title            0\n",
       "dtype: int64"
      ]
     },
     "execution_count": 59,
     "metadata": {},
     "output_type": "execute_result"
    }
   ],
   "source": [
    "completedatacopy.isna().sum()"
   ]
  },
  {
   "cell_type": "code",
   "execution_count": 60,
   "id": "da080982",
   "metadata": {},
   "outputs": [],
   "source": [
    "completedatacopy=pd.DataFrame(completedatacopy)"
   ]
  },
  {
   "cell_type": "code",
   "execution_count": 61,
   "id": "872100bd",
   "metadata": {},
   "outputs": [
    {
     "data": {
      "text/html": [
       "<div>\n",
       "<style scoped>\n",
       "    .dataframe tbody tr th:only-of-type {\n",
       "        vertical-align: middle;\n",
       "    }\n",
       "\n",
       "    .dataframe tbody tr th {\n",
       "        vertical-align: top;\n",
       "    }\n",
       "\n",
       "    .dataframe thead th {\n",
       "        text-align: right;\n",
       "    }\n",
       "</style>\n",
       "<table border=\"1\" class=\"dataframe\">\n",
       "  <thead>\n",
       "    <tr style=\"text-align: right;\">\n",
       "      <th></th>\n",
       "      <th>PassengerId</th>\n",
       "      <th>Survived</th>\n",
       "      <th>Pclass</th>\n",
       "      <th>Name</th>\n",
       "      <th>Sex</th>\n",
       "      <th>Age</th>\n",
       "      <th>SibSp</th>\n",
       "      <th>Parch</th>\n",
       "      <th>Ticket</th>\n",
       "      <th>Fare</th>\n",
       "      <th>Cabin</th>\n",
       "      <th>Embarked</th>\n",
       "      <th>train</th>\n",
       "      <th>cabin_multiple</th>\n",
       "      <th>cabin_adv</th>\n",
       "      <th>numeric_ticket</th>\n",
       "      <th>ticcket_letters</th>\n",
       "      <th>Name_title</th>\n",
       "    </tr>\n",
       "  </thead>\n",
       "  <tbody>\n",
       "    <tr>\n",
       "      <th>152</th>\n",
       "      <td>1044</td>\n",
       "      <td>NaN</td>\n",
       "      <td>3</td>\n",
       "      <td>Storey, Mr. Thomas</td>\n",
       "      <td>male</td>\n",
       "      <td>60.50</td>\n",
       "      <td>0</td>\n",
       "      <td>0</td>\n",
       "      <td>3701</td>\n",
       "      <td>NaN</td>\n",
       "      <td>NaN</td>\n",
       "      <td>S</td>\n",
       "      <td>0</td>\n",
       "      <td>0</td>\n",
       "      <td>n</td>\n",
       "      <td>1</td>\n",
       "      <td>0</td>\n",
       "      <td>Mr</td>\n",
       "    </tr>\n",
       "  </tbody>\n",
       "</table>\n",
       "</div>"
      ],
      "text/plain": [
       "     PassengerId  Survived  Pclass                Name   Sex   Age  SibSp  \\\n",
       "152         1044       NaN       3  Storey, Mr. Thomas  male 60.50      0   \n",
       "\n",
       "     Parch Ticket  Fare Cabin Embarked  train  cabin_multiple cabin_adv  \\\n",
       "152      0   3701   NaN   NaN        S      0               0         n   \n",
       "\n",
       "     numeric_ticket ticcket_letters Name_title  \n",
       "152               1               0         Mr  "
      ]
     },
     "execution_count": 61,
     "metadata": {},
     "output_type": "execute_result"
    }
   ],
   "source": [
    "completedatacopy[completedatacopy['Fare'].isna()]"
   ]
  },
  {
   "cell_type": "code",
   "execution_count": 62,
   "id": "4051eca9",
   "metadata": {},
   "outputs": [
    {
     "data": {
      "text/plain": [
       "13.302888700564969"
      ]
     },
     "execution_count": 62,
     "metadata": {},
     "output_type": "execute_result"
    }
   ],
   "source": [
    "completedatacopy[completedatacopy['Pclass']==3]['Fare'].mean()"
   ]
  },
  {
   "cell_type": "code",
   "execution_count": 63,
   "id": "c884aaef",
   "metadata": {},
   "outputs": [],
   "source": [
    "completedatacopy.loc[completedatacopy['PassengerId'] ==1044, 'Fare'\n",
    "    ]=completedatacopy[completedatacopy['Pclass']==3]['Fare'].mean()"
   ]
  },
  {
   "cell_type": "code",
   "execution_count": 64,
   "id": "5121342b",
   "metadata": {},
   "outputs": [],
   "source": [
    "completedata_dummie=pd.get_dummies(completedatacopy[[ 'Survived', 'Pclass', 'Sex', 'Age', 'SibSp',\n",
    "       'Parch', 'Ticket', 'Embarked',\n",
    "       'cabin_adv','Name_title','Fare','train']])"
   ]
  },
  {
   "cell_type": "code",
   "execution_count": 65,
   "id": "ca5be745",
   "metadata": {},
   "outputs": [],
   "source": [
    "train1=completedata_dummie[completedata_dummie.train==1].drop(['train'],axis=1)\n",
    "\n",
    "test1=completedata_dummie[completedata_dummie.train==0].drop(['train'],axis=1)"
   ]
  },
  {
   "cell_type": "markdown",
   "id": "89f6fe9f",
   "metadata": {},
   "source": [
    "# Model  Building "
   ]
  },
  {
   "cell_type": "code",
   "execution_count": 66,
   "id": "ad181d6f",
   "metadata": {},
   "outputs": [],
   "source": [
    "Xtrain , Xtest , ytrain , ytest =train_test_split(train1.drop(['Survived'],axis=1),train1.Survived,test_size=0.025)"
   ]
  },
  {
   "cell_type": "code",
   "execution_count": 67,
   "id": "b0530f10",
   "metadata": {},
   "outputs": [
    {
     "data": {
      "text/plain": [
       "(889, 965)"
      ]
     },
     "execution_count": 67,
     "metadata": {},
     "output_type": "execute_result"
    }
   ],
   "source": [
    "train1.drop(['Survived'],axis=1).shape"
   ]
  },
  {
   "cell_type": "code",
   "execution_count": 68,
   "id": "a1fbd45f",
   "metadata": {
    "scrolled": false
   },
   "outputs": [
    {
     "name": "stderr",
     "output_type": "stream",
     "text": [
      "100%|██████████| 29/29 [00:06<00:00,  4.35it/s]"
     ]
    },
    {
     "name": "stdout",
     "output_type": "stream",
     "text": [
      "                               Accuracy  Balanced Accuracy  ROC AUC  F1 Score  \\\n",
      "Model                                                                           \n",
      "AdaBoostClassifier                 0.96               0.94     0.94      0.96   \n",
      "LogisticRegression                 0.96               0.94     0.94      0.96   \n",
      "XGBClassifier                      0.96               0.94     0.94      0.96   \n",
      "RidgeClassifierCV                  0.96               0.94     0.94      0.96   \n",
      "RidgeClassifier                    0.96               0.94     0.94      0.96   \n",
      "RandomForestClassifier             0.96               0.94     0.94      0.96   \n",
      "PassiveAggressiveClassifier        0.96               0.94     0.94      0.96   \n",
      "LinearSVC                          0.96               0.94     0.94      0.96   \n",
      "LGBMClassifier                     0.96               0.94     0.94      0.96   \n",
      "ExtraTreesClassifier               0.96               0.94     0.94      0.96   \n",
      "CalibratedClassifierCV             0.96               0.94     0.94      0.96   \n",
      "NuSVC                              0.91               0.91     0.91      0.91   \n",
      "Perceptron                         0.91               0.91     0.91      0.91   \n",
      "DecisionTreeClassifier             0.91               0.89     0.89      0.91   \n",
      "SGDClassifier                      0.91               0.89     0.89      0.91   \n",
      "BaggingClassifier                  0.91               0.89     0.89      0.91   \n",
      "SVC                                0.87               0.87     0.87      0.87   \n",
      "NearestCentroid                    0.83               0.84     0.84      0.83   \n",
      "LinearDiscriminantAnalysis         0.87               0.83     0.83      0.86   \n",
      "ExtraTreeClassifier                0.83               0.82     0.82      0.83   \n",
      "BernoulliNB                        0.78               0.78     0.78      0.78   \n",
      "LabelSpreading                     0.74               0.71     0.71      0.73   \n",
      "LabelPropagation                   0.74               0.71     0.71      0.73   \n",
      "QuadraticDiscriminantAnalysis      0.70               0.69     0.69      0.70   \n",
      "GaussianNB                         0.61               0.68     0.68      0.58   \n",
      "DummyClassifier                    0.61               0.50     0.50      0.46   \n",
      "KNeighborsClassifier               0.43               0.46     0.46      0.43   \n",
      "\n",
      "                               Time Taken  \n",
      "Model                                      \n",
      "AdaBoostClassifier                   0.39  \n",
      "LogisticRegression                   0.07  \n",
      "XGBClassifier                        0.52  \n",
      "RidgeClassifierCV                    0.30  \n",
      "RidgeClassifier                      0.08  \n",
      "RandomForestClassifier               0.34  \n",
      "PassiveAggressiveClassifier          0.08  \n",
      "LinearSVC                            0.46  \n",
      "LGBMClassifier                       0.19  \n",
      "ExtraTreesClassifier                 0.38  \n",
      "CalibratedClassifierCV               1.90  \n",
      "NuSVC                                0.26  \n",
      "Perceptron                           0.08  \n",
      "DecisionTreeClassifier               0.07  \n",
      "SGDClassifier                        0.10  \n",
      "BaggingClassifier                    0.20  \n",
      "SVC                                  0.29  \n",
      "NearestCentroid                      0.06  \n",
      "LinearDiscriminantAnalysis           0.20  \n",
      "ExtraTreeClassifier                  0.05  \n",
      "BernoulliNB                          0.06  \n",
      "LabelSpreading                       0.12  \n",
      "LabelPropagation                     0.09  \n",
      "QuadraticDiscriminantAnalysis        0.15  \n",
      "GaussianNB                           0.06  \n",
      "DummyClassifier                      0.05  \n",
      "KNeighborsClassifier                 0.04  \n"
     ]
    },
    {
     "name": "stderr",
     "output_type": "stream",
     "text": [
      "\n"
     ]
    }
   ],
   "source": [
    "clf = LazyClassifier(verbose=0,ignore_warnings=True, custom_metric=None)\n",
    "models,predictions = clf.fit(Xtrain, Xtest, ytrain, ytest)\n",
    "\n",
    "print(models)"
   ]
  },
  {
   "cell_type": "markdown",
   "id": "07c57535",
   "metadata": {},
   "source": [
    "After comparing those results, we can apply optimization techniques to the Random Forest classifier to further improve its performance."
   ]
  },
  {
   "cell_type": "code",
   "execution_count": 69,
   "id": "7711affc",
   "metadata": {},
   "outputs": [],
   "source": [
    "from sklearn.ensemble import RandomForestClassifier"
   ]
  },
  {
   "cell_type": "code",
   "execution_count": 87,
   "id": "4b375b9f",
   "metadata": {},
   "outputs": [
    {
     "data": {
      "text/plain": [
       "RandomForestClassifier(n_estimators=200)"
      ]
     },
     "execution_count": 87,
     "metadata": {},
     "output_type": "execute_result"
    }
   ],
   "source": [
    "clf=RandomForestClassifier(n_estimators= 200)\n",
    "clf.fit(train1.drop(['Survived'],axis=1), train1.Survived)"
   ]
  },
  {
   "cell_type": "code",
   "execution_count": 71,
   "id": "40693667",
   "metadata": {},
   "outputs": [],
   "source": [
    "from sklearn.linear_model import LogisticRegression"
   ]
  },
  {
   "cell_type": "code",
   "execution_count": 72,
   "id": "e839326c",
   "metadata": {},
   "outputs": [
    {
     "data": {
      "text/plain": [
       "0.9565217391304348"
      ]
     },
     "execution_count": 72,
     "metadata": {},
     "output_type": "execute_result"
    }
   ],
   "source": [
    "clf=LogisticRegression(random_state=0)\n",
    "clf.fit(Xtrain, ytrain)\n",
    "clf.score(Xtest,ytest)"
   ]
  },
  {
   "cell_type": "markdown",
   "id": "e40d35f5",
   "metadata": {},
   "source": [
    "# Feature Importance"
   ]
  },
  {
   "cell_type": "code",
   "execution_count": 88,
   "id": "8e918b36",
   "metadata": {},
   "outputs": [
    {
     "data": {
      "text/plain": [
       "<AxesSubplot:>"
      ]
     },
     "execution_count": 88,
     "metadata": {},
     "output_type": "execute_result"
    },
    {
     "data": {
      "image/png": "[encoded data removed]",
      "text/plain": [
       "<Figure size 720x576 with 1 Axes>"
      ]
     },
     "metadata": {},
     "output_type": "display_data"
    }
   ],
   "source": [
    "plt.figure(figsize=(10,8))\n",
    "feat_importances=pd.Series(clf.feature_importances_,Xtrain.columns)\n",
    "feat_importances.nlargest(40).plot(kind='barh')"
   ]
  },
  {
   "cell_type": "code",
   "execution_count": 141,
   "id": "e9d9450d",
   "metadata": {},
   "outputs": [],
   "source": [
    "pred=clf.predict(test1.drop(['Survived'],axis=1))"
   ]
  },
  {
   "cell_type": "code",
   "execution_count": 142,
   "id": "6425b9c8",
   "metadata": {},
   "outputs": [
    {
     "data": {
      "text/plain": [
       "(418, 974)"
      ]
     },
     "execution_count": 142,
     "metadata": {},
     "output_type": "execute_result"
    }
   ],
   "source": [
    "test1.shape"
   ]
  },
  {
   "cell_type": "code",
   "execution_count": 143,
   "id": "a16b33ea",
   "metadata": {},
   "outputs": [],
   "source": [
    "my_int_list = [int(x) for x in pred]"
   ]
  },
  {
   "cell_type": "code",
   "execution_count": 144,
   "id": "c13e05a7",
   "metadata": {},
   "outputs": [],
   "source": [
    "ss=pd.DataFrame({'PassengerId':test.PassengerId,'Survived':my_int_list})"
   ]
  },
  {
   "cell_type": "code",
   "execution_count": 145,
   "id": "31c8764b",
   "metadata": {},
   "outputs": [],
   "source": [
    "ss.to_csv('sub.csv',index=False)"
   ]
  },
  {
   "cell_type": "code",
   "execution_count": 146,
   "id": "e5940ee9",
   "metadata": {},
   "outputs": [
    {
     "data": {
      "text/plain": [
       "PassengerId    460009\n",
       "Survived          188\n",
       "dtype: int64"
      ]
     },
     "execution_count": 146,
     "metadata": {},
     "output_type": "execute_result"
    }
   ],
   "source": [
    "ss.sum()"
   ]
  },
  {
   "cell_type": "markdown",
   "id": "763379f7",
   "metadata": {},
   "source": [
    "# More feature engineering on Age"
   ]
  },
  {
   "cell_type": "markdown",
   "id": "755e746b",
   "metadata": {},
   "source": [
    "The missing data in age was categorized as a category. For the remaining non-missing values, one way to categorize them is by manually defining the number of age bins and the bin size."
   ]
  },
  {
   "cell_type": "code",
   "execution_count": 126,
   "id": "22645011",
   "metadata": {},
   "outputs": [],
   "source": [
    "# Define a function to create age bins\n",
    "def categorize_age(input_data, age_bin_size):\n",
    "    i = 'a'\n",
    "    for a in range(0,91,age_bin_size):\n",
    "        input_data.loc[(input_data['Age'] >= a) & (input_data['Age'] < a+age_bin_size),'age bin'] = i + '. [' + str(a) + ',' + str(a+age_bin_size) + ')'\n",
    "        i = chr(ord(i) + 1)\n",
    "    input_data.loc[(input_data['Age'].isna()), 'age bin'] = 'null'"
   ]
  },
  {
   "cell_type": "code",
   "execution_count": 127,
   "id": "5070b25e",
   "metadata": {},
   "outputs": [
    {
     "data": {
      "image/png": "[encoded data removed]",
      "text/plain": [
       "<Figure size 360x360 with 1 Axes>"
      ]
     },
     "metadata": {},
     "output_type": "display_data"
    }
   ],
   "source": [
    "# Create 9 age bins \n",
    "df = completedata.copy()\n",
    "df['age bin'] = None\n",
    "categorize_age(df,9)\n",
    "\n",
    "age_dist = df.groupby(['age bin'])['Survived'\n",
    "                                  ].describe().reset_index().sort_values('age bin')\n",
    "g = sns.catplot(y='age bin', x='mean', \n",
    "               data=age_dist, saturation=.5, kind='bar', ci=None)\n",
    "g.set_xlabels('survival rate')\n",
    "plt.axvline(0.4, 0, 3, color='turquoise');"
   ]
  },
  {
   "cell_type": "code",
   "execution_count": 128,
   "id": "6b9b2146",
   "metadata": {},
   "outputs": [],
   "source": [
    "df.loc[df['PassengerId'] ==1044, 'Fare'\n",
    "    ]=df[df['Pclass']==3]['Fare'].mean()"
   ]
  },
  {
   "cell_type": "code",
   "execution_count": 129,
   "id": "54f82102",
   "metadata": {},
   "outputs": [],
   "source": [
    "#Drop nulls for Embarked (only 2)\n",
    "df.dropna(subset=['Embarked'],inplace=True)"
   ]
  },
  {
   "cell_type": "code",
   "execution_count": 130,
   "id": "3deb5635",
   "metadata": {},
   "outputs": [],
   "source": [
    "completedata_dummie=pd.get_dummies(df[[ 'Survived', 'Pclass', 'Sex', 'SibSp',\n",
    "       'Parch', 'Ticket', 'Embarked','Fare',\n",
    "       'cabin_adv','Name_title','age bin','train']])"
   ]
  },
  {
   "cell_type": "code",
   "execution_count": 131,
   "id": "d9d753c6",
   "metadata": {},
   "outputs": [],
   "source": [
    "train1=completedata_dummie[completedata_dummie.train==1].drop(['train'],axis=1)\n",
    "\n",
    "test1=completedata_dummie[completedata_dummie.train==0].drop(['train'],axis=1)"
   ]
  },
  {
   "cell_type": "code",
   "execution_count": 132,
   "id": "346f4ed7",
   "metadata": {},
   "outputs": [
    {
     "data": {
      "text/plain": [
       "(889, 973)"
      ]
     },
     "execution_count": 132,
     "metadata": {},
     "output_type": "execute_result"
    }
   ],
   "source": [
    "train1.drop(['Survived'],axis=1).shape"
   ]
  },
  {
   "cell_type": "code",
   "execution_count": 136,
   "id": "5dd6601f",
   "metadata": {},
   "outputs": [],
   "source": [
    "Xtrain , Xtest , ytrain , ytest =train_test_split(train1.drop(['Survived'],axis=1),train1.Survived,test_size=0.5)"
   ]
  },
  {
   "cell_type": "code",
   "execution_count": 137,
   "id": "ef292b7e",
   "metadata": {},
   "outputs": [
    {
     "data": {
      "text/plain": [
       "(445,)"
      ]
     },
     "execution_count": 137,
     "metadata": {},
     "output_type": "execute_result"
    }
   ],
   "source": [
    "ytest.shape"
   ]
  },
  {
   "cell_type": "code",
   "execution_count": 138,
   "id": "ecd1c9d0",
   "metadata": {},
   "outputs": [
    {
     "name": "stderr",
     "output_type": "stream",
     "text": [
      "100%|██████████| 29/29 [00:04<00:00,  7.22it/s]"
     ]
    },
    {
     "name": "stdout",
     "output_type": "stream",
     "text": [
      "                               Accuracy  Balanced Accuracy  ROC AUC  F1 Score  \\\n",
      "Model                                                                           \n",
      "RandomForestClassifier             0.84               0.81     0.81      0.83   \n",
      "RidgeClassifierCV                  0.82               0.81     0.81      0.82   \n",
      "PassiveAggressiveClassifier        0.82               0.81     0.81      0.82   \n",
      "ExtraTreesClassifier               0.83               0.80     0.80      0.82   \n",
      "RidgeClassifier                    0.82               0.80     0.80      0.82   \n",
      "LogisticRegression                 0.82               0.80     0.80      0.82   \n",
      "LinearSVC                          0.82               0.80     0.80      0.81   \n",
      "AdaBoostClassifier                 0.82               0.80     0.80      0.82   \n",
      "LinearDiscriminantAnalysis         0.81               0.79     0.79      0.81   \n",
      "CalibratedClassifierCV             0.81               0.79     0.79      0.81   \n",
      "LGBMClassifier                     0.81               0.79     0.79      0.81   \n",
      "DecisionTreeClassifier             0.82               0.79     0.79      0.81   \n",
      "XGBClassifier                      0.81               0.79     0.79      0.81   \n",
      "NearestCentroid                    0.79               0.78     0.78      0.79   \n",
      "BaggingClassifier                  0.81               0.77     0.77      0.80   \n",
      "Perceptron                         0.78               0.76     0.76      0.78   \n",
      "BernoulliNB                        0.78               0.76     0.76      0.78   \n",
      "SGDClassifier                      0.79               0.76     0.76      0.78   \n",
      "ExtraTreeClassifier                0.78               0.76     0.76      0.78   \n",
      "NuSVC                              0.78               0.76     0.76      0.78   \n",
      "SVC                                0.77               0.74     0.74      0.77   \n",
      "KNeighborsClassifier               0.70               0.65     0.65      0.68   \n",
      "LabelSpreading                     0.65               0.55     0.55      0.55   \n",
      "LabelPropagation                   0.65               0.55     0.55      0.55   \n",
      "QuadraticDiscriminantAnalysis      0.44               0.52     0.52      0.39   \n",
      "GaussianNB                         0.44               0.52     0.52      0.40   \n",
      "DummyClassifier                    0.61               0.50     0.50      0.47   \n",
      "\n",
      "                               Time Taken  \n",
      "Model                                      \n",
      "RandomForestClassifier               0.24  \n",
      "RidgeClassifierCV                    0.08  \n",
      "PassiveAggressiveClassifier          0.06  \n",
      "ExtraTreesClassifier                 0.22  \n",
      "RidgeClassifier                      0.05  \n",
      "LogisticRegression                   0.07  \n",
      "LinearSVC                            0.25  \n",
      "AdaBoostClassifier                   0.28  \n",
      "LinearDiscriminantAnalysis           0.10  \n",
      "CalibratedClassifierCV               1.02  \n",
      "LGBMClassifier                       0.13  \n",
      "DecisionTreeClassifier               0.04  \n",
      "XGBClassifier                        0.31  \n",
      "NearestCentroid                      0.06  \n",
      "BaggingClassifier                    0.13  \n",
      "Perceptron                           0.05  \n",
      "BernoulliNB                          0.06  \n",
      "SGDClassifier                        0.05  \n",
      "ExtraTreeClassifier                  0.05  \n",
      "NuSVC                                0.18  \n",
      "SVC                                  0.19  \n",
      "KNeighborsClassifier                 0.05  \n",
      "LabelSpreading                       0.06  \n",
      "LabelPropagation                     0.07  \n",
      "QuadraticDiscriminantAnalysis        0.09  \n",
      "GaussianNB                           0.06  \n",
      "DummyClassifier                      0.03  \n"
     ]
    },
    {
     "name": "stderr",
     "output_type": "stream",
     "text": [
      "\n"
     ]
    }
   ],
   "source": [
    "clf = LazyClassifier(verbose=0,ignore_warnings=True, custom_metric=None)\n",
    "models,predictions = clf.fit(Xtrain, Xtest, ytrain, ytest)\n",
    "\n",
    "print(models)"
   ]
  },
  {
   "cell_type": "code",
   "execution_count": 139,
   "id": "dfe250b9",
   "metadata": {},
   "outputs": [
    {
     "data": {
      "text/plain": [
       "1.0"
      ]
     },
     "execution_count": 139,
     "metadata": {},
     "output_type": "execute_result"
    }
   ],
   "source": [
    "clf=RandomForestClassifier(n_estimators= 100)\n",
    "clf.fit(train1.drop(['Survived'],axis=1), train1.Survived)\n",
    "clf.score(Xtest,ytest)"
   ]
  },
  {
   "cell_type": "code",
   "execution_count": 408,
   "id": "3b23b61f",
   "metadata": {},
   "outputs": [],
   "source": [
    "from sklearn.tree import DecisionTreeClassifier"
   ]
  },
  {
   "cell_type": "code",
   "execution_count": 420,
   "id": "6a655282",
   "metadata": {},
   "outputs": [
    {
     "data": {
      "text/plain": [
       "0.8260869565217391"
      ]
     },
     "execution_count": 420,
     "metadata": {},
     "output_type": "execute_result"
    }
   ],
   "source": [
    "clf=DecisionTreeClassifier(random_state=0)\n",
    "clf.fit(Xtrain, ytrain)\n",
    "clf.score(Xtest,ytest)"
   ]
  },
  {
   "cell_type": "code",
   "execution_count": 140,
   "id": "022bb91d",
   "metadata": {},
   "outputs": [
    {
     "data": {
      "text/plain": [
       "<AxesSubplot:>"
      ]
     },
     "execution_count": 140,
     "metadata": {},
     "output_type": "execute_result"
    },
    {
     "data": {
      "image/png": "[encoded data removed]",
      "text/plain": [
       "<Figure size 720x576 with 1 Axes>"
      ]
     },
     "metadata": {},
     "output_type": "display_data"
    }
   ],
   "source": [
    "plt.figure(figsize=(10,8))\n",
    "feat_importances=pd.Series(clf.feature_importances_,Xtrain.columns)\n",
    "feat_importances.nlargest(40).plot(kind='barh')"
   ]
  },
  {
   "cell_type": "code",
   "execution_count": null,
   "id": "45e0b047",
   "metadata": {},
   "outputs": [],
   "source": []
  }
 ],
 "metadata": {
  "kernelspec": {
   "display_name": "Python 3",
   "language": "python",
   "name": "python3"
  },
  "language_info": {
   "codemirror_mode": {
    "name": "ipython",
    "version": 3
   },
   "file_extension": ".py",
   "mimetype": "text/x-python",
   "name": "python",
   "nbconvert_exporter": "python",
   "pygments_lexer": "ipython3",
   "version": "3.8.8"
  }
 },
 "nbformat": 4,
 "nbformat_minor": 5
}
